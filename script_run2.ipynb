{
 "cells": [
  {
   "cell_type": "code",
   "execution_count": 4,
   "id": "177ab8ee",
   "metadata": {},
   "outputs": [
    {
     "name": "stdout",
     "output_type": "stream",
     "text": [
      "Training fold 1/10\n",
      "Epoch [100/500], Loss: 0.6775, Val Loss: 0.6496\n",
      "Epoch [200/500], Loss: 0.6785, Val Loss: 0.6496\n",
      "Epoch [300/500], Loss: 0.6767, Val Loss: 0.6496\n",
      "Epoch [400/500], Loss: 0.6772, Val Loss: 0.6496\n",
      "Epoch [500/500], Loss: 0.6765, Val Loss: 0.6496\n",
      "Accuracy: 68.57%\n",
      "Training fold 2/10\n",
      "Epoch [100/500], Loss: 0.6725, Val Loss: 0.6869\n",
      "Epoch [200/500], Loss: 0.6744, Val Loss: 0.6869\n",
      "Epoch [300/500], Loss: 0.6740, Val Loss: 0.6869\n",
      "Epoch [400/500], Loss: 0.6748, Val Loss: 0.6869\n",
      "Epoch [500/500], Loss: 0.6761, Val Loss: 0.6869\n",
      "Accuracy: 50.54%\n",
      "Training fold 3/10\n",
      "Epoch [100/500], Loss: 0.6784, Val Loss: 0.7099\n",
      "Epoch [200/500], Loss: 0.6783, Val Loss: 0.7099\n",
      "Epoch [300/500], Loss: 0.6787, Val Loss: 0.7099\n",
      "Epoch [400/500], Loss: 0.6778, Val Loss: 0.7099\n",
      "Epoch [500/500], Loss: 0.6784, Val Loss: 0.7099\n",
      "Accuracy: 50.54%\n",
      "Training fold 4/10\n",
      "Epoch [100/500], Loss: 0.6797, Val Loss: 0.6884\n",
      "Epoch [200/500], Loss: 0.6771, Val Loss: 0.6884\n",
      "Epoch [300/500], Loss: 0.6769, Val Loss: 0.6884\n",
      "Epoch [400/500], Loss: 0.6769, Val Loss: 0.6884\n",
      "Epoch [500/500], Loss: 0.6771, Val Loss: 0.6884\n",
      "Accuracy: 50.36%\n",
      "Training fold 5/10\n",
      "Epoch [100/500], Loss: 0.6784, Val Loss: 0.6713\n",
      "Epoch [200/500], Loss: 0.6782, Val Loss: 0.6713\n",
      "Epoch [300/500], Loss: 0.6770, Val Loss: 0.6713\n",
      "Epoch [400/500], Loss: 0.6801, Val Loss: 0.6713\n",
      "Epoch [500/500], Loss: 0.6786, Val Loss: 0.6713\n",
      "Accuracy: 60.89%\n",
      "Training fold 6/10\n",
      "Epoch [100/500], Loss: 0.6724, Val Loss: 0.6679\n",
      "Epoch [200/500], Loss: 0.6710, Val Loss: 0.6679\n",
      "Epoch [300/500], Loss: 0.6703, Val Loss: 0.6679\n",
      "Epoch [400/500], Loss: 0.6708, Val Loss: 0.6679\n",
      "Epoch [500/500], Loss: 0.6739, Val Loss: 0.6679\n",
      "Accuracy: 59.91%\n",
      "Training fold 7/10\n",
      "Epoch [100/500], Loss: 0.6806, Val Loss: 0.6958\n",
      "Epoch [200/500], Loss: 0.6798, Val Loss: 0.6958\n",
      "Epoch [300/500], Loss: 0.6804, Val Loss: 0.6958\n",
      "Epoch [400/500], Loss: 0.6790, Val Loss: 0.6958\n",
      "Epoch [500/500], Loss: 0.6782, Val Loss: 0.6958\n",
      "Accuracy: 45.45%\n",
      "Training fold 8/10\n",
      "Epoch [100/500], Loss: 0.6854, Val Loss: 0.6691\n",
      "Epoch [200/500], Loss: 0.6865, Val Loss: 0.6691\n",
      "Epoch [300/500], Loss: 0.6849, Val Loss: 0.6691\n",
      "Epoch [400/500], Loss: 0.6858, Val Loss: 0.6691\n",
      "Epoch [500/500], Loss: 0.6862, Val Loss: 0.6691\n",
      "Accuracy: 69.02%\n",
      "Training fold 9/10\n",
      "Epoch [100/500], Loss: 0.6755, Val Loss: 0.7126\n",
      "Epoch [200/500], Loss: 0.6754, Val Loss: 0.7126\n",
      "Epoch [300/500], Loss: 0.6755, Val Loss: 0.7126\n",
      "Epoch [400/500], Loss: 0.6744, Val Loss: 0.7126\n",
      "Epoch [500/500], Loss: 0.6753, Val Loss: 0.7126\n",
      "Accuracy: 41.88%\n",
      "Training fold 10/10\n",
      "Epoch [100/500], Loss: 0.6788, Val Loss: 0.7229\n",
      "Epoch [200/500], Loss: 0.6771, Val Loss: 0.7229\n",
      "Epoch [300/500], Loss: 0.6779, Val Loss: 0.7229\n",
      "Epoch [400/500], Loss: 0.6782, Val Loss: 0.7229\n",
      "Epoch [500/500], Loss: 0.6783, Val Loss: 0.7229\n",
      "Accuracy: 49.73%\n",
      "Mean Accuracy: 54.69% (+/- 8.90%)\n"
     ]
    }
   ],
   "source": [
    "!python train2.py --epochs 500 --batch_size 10 --learning_rate 0.001 --hidden_size 50 --n_splits 10"
   ]
  }
 ],
 "metadata": {
  "kernelspec": {
   "display_name": "Python 3 (ipykernel)",
   "language": "python",
   "name": "python3"
  },
  "language_info": {
   "codemirror_mode": {
    "name": "ipython",
    "version": 3
   },
   "file_extension": ".py",
   "mimetype": "text/x-python",
   "name": "python",
   "nbconvert_exporter": "python",
   "pygments_lexer": "ipython3",
   "version": "3.11.5"
  }
 },
 "nbformat": 4,
 "nbformat_minor": 5
}
