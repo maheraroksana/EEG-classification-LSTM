{
 "cells": [
  {
   "cell_type": "code",
   "execution_count": 7,
   "id": "746e4059",
   "metadata": {},
   "outputs": [
    {
     "name": "stdout",
     "output_type": "stream",
     "text": [
      "Training fold 1/10\n",
      "Epoch [100/500], Loss: 0.6524\n",
      "Epoch [200/500], Loss: 0.6224\n",
      "Epoch [300/500], Loss: 0.5982\n",
      "Epoch [400/500], Loss: 0.5759\n",
      "Epoch [500/500], Loss: 0.5635\n",
      "Accuracy: 50.09%\n",
      "Training fold 2/10\n",
      "Epoch [100/500], Loss: 0.6585\n",
      "Epoch [200/500], Loss: 0.6313\n",
      "Epoch [300/500], Loss: 0.6100\n",
      "Epoch [400/500], Loss: 0.5910\n",
      "Epoch [500/500], Loss: 0.5760\n",
      "Accuracy: 48.57%\n",
      "Training fold 3/10\n",
      "Epoch [100/500], Loss: 0.6880\n",
      "Epoch [200/500], Loss: 0.6610\n",
      "Epoch [300/500], Loss: 0.6468\n",
      "Epoch [400/500], Loss: 0.6327\n",
      "Epoch [500/500], Loss: 0.6190\n",
      "Accuracy: 47.23%\n",
      "Training fold 4/10\n",
      "Epoch [100/500], Loss: 0.6389\n",
      "Epoch [200/500], Loss: 0.6132\n",
      "Epoch [300/500], Loss: 0.5924\n",
      "Epoch [400/500], Loss: 0.5728\n",
      "Epoch [500/500], Loss: 0.5530\n",
      "Accuracy: 46.16%\n",
      "Training fold 5/10\n",
      "Epoch [100/500], Loss: 0.6528\n",
      "Epoch [200/500], Loss: 0.6283\n",
      "Epoch [300/500], Loss: 0.6107\n",
      "Epoch [400/500], Loss: 0.5963\n",
      "Epoch [500/500], Loss: 0.5796\n",
      "Accuracy: 49.38%\n",
      "Training fold 6/10\n",
      "Epoch [100/500], Loss: 0.6781\n",
      "Epoch [200/500], Loss: 0.6424\n",
      "Epoch [300/500], Loss: 0.6220\n",
      "Epoch [400/500], Loss: 0.6066\n",
      "Epoch [500/500], Loss: 0.5927\n",
      "Accuracy: 56.61%\n",
      "Training fold 7/10\n",
      "Epoch [100/500], Loss: 0.6333\n",
      "Epoch [200/500], Loss: 0.6090\n",
      "Epoch [300/500], Loss: 0.5971\n",
      "Epoch [400/500], Loss: 0.5828\n",
      "Epoch [500/500], Loss: 0.5692\n",
      "Accuracy: 54.29%\n",
      "Training fold 8/10\n",
      "Epoch [100/500], Loss: 0.6299\n",
      "Epoch [200/500], Loss: 0.6027\n",
      "Epoch [300/500], Loss: 0.5789\n",
      "Epoch [400/500], Loss: 0.5564\n",
      "Epoch [500/500], Loss: 0.5454\n",
      "Accuracy: 59.02%\n",
      "Training fold 9/10\n",
      "Epoch [100/500], Loss: 0.6964\n",
      "Epoch [200/500], Loss: 0.6687\n",
      "Epoch [300/500], Loss: 0.6489\n",
      "Epoch [400/500], Loss: 0.6332\n",
      "Epoch [500/500], Loss: 0.6152\n",
      "Accuracy: 46.96%\n",
      "Training fold 10/10\n",
      "Epoch [100/500], Loss: 0.6584\n",
      "Epoch [200/500], Loss: 0.6328\n",
      "Epoch [300/500], Loss: 0.6120\n",
      "Epoch [400/500], Loss: 0.5952\n",
      "Epoch [500/500], Loss: 0.5792\n",
      "Accuracy: 49.38%\n",
      "Mean Accuracy: 50.77% (+/- 4.15%)\n"
     ]
    }
   ],
   "source": [
    "!python train.py --epochs 500 --batch_size 10 --learning_rate 0.001 --hidden_size 50 --n_splits 10"
   ]
  }
 ],
 "metadata": {
  "kernelspec": {
   "display_name": "Python 3 (ipykernel)",
   "language": "python",
   "name": "python3"
  },
  "language_info": {
   "codemirror_mode": {
    "name": "ipython",
    "version": 3
   },
   "file_extension": ".py",
   "mimetype": "text/x-python",
   "name": "python",
   "nbconvert_exporter": "python",
   "pygments_lexer": "ipython3",
   "version": "3.11.5"
  }
 },
 "nbformat": 4,
 "nbformat_minor": 5
}
